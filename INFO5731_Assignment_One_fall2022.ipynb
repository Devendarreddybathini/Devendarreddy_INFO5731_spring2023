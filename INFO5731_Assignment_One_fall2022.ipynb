{
  "cells": [
    {
      "cell_type": "markdown",
      "metadata": {
        "id": "view-in-github",
        "colab_type": "text"
      },
      "source": [
        "<a href=\"https://colab.research.google.com/github/Devendarreddybathini/Devendarreddy_INFO5731_spring2023/blob/main/INFO5731_Assignment_One_fall2022.ipynb\" target=\"_parent\"><img src=\"https://colab.research.google.com/assets/colab-badge.svg\" alt=\"Open In Colab\"/></a>"
      ]
    },
    {
      "cell_type": "markdown",
      "metadata": {
        "id": "Ryk8D1Q4Wsrp"
      },
      "source": [
        "# **INFO5731 Assignment One**"
      ]
    },
    {
      "cell_type": "markdown",
      "metadata": {
        "id": "90_NR8c5XGWc"
      },
      "source": [
        "# Question 1\n",
        "\n",
        "(20 points). Write a Python program to generate 12 random numbers between 1 and 100. Sort the list of numbers in ascending order and print it out. Sort the list of numbers in descending order and print it out. Calculate the average for the group and print it out."
      ]
    },
    {
      "cell_type": "code",
      "execution_count": null,
      "metadata": {
        "colab": {
          "base_uri": "https://localhost:8080/"
        },
        "id": "5QX6bJjGWXY9",
        "outputId": "85b4261f-43f5-43a2-e7b9-9c0d91d374a6"
      },
      "outputs": [
        {
          "output_type": "stream",
          "name": "stdout",
          "text": [
            "Random numbers:  [53, 27, 84, 42, 73, 45, 53, 17, 75, 16, 70, 30]\n",
            "Ascending order:  [16, 17, 27, 30, 42, 45, 53, 53, 70, 73, 75, 84]\n",
            "Descending order:  [84, 75, 73, 70, 53, 53, 45, 42, 30, 27, 17, 16]\n",
            "Average:  48.75\n"
          ]
        }
      ],
      "source": [
        "# Your code here\n",
        "import random\n",
        "\n",
        "numbers = [random.randint(1, 100) for i in range(12)]\n",
        "print(\"Random numbers: \", numbers)\n",
        "\n",
        "numbers.sort()\n",
        "print(\"Ascending order: \", numbers)\n",
        "\n",
        "numbers.sort(reverse=True)\n",
        "print(\"Descending order: \", numbers)\n",
        "\n",
        "average = sum(numbers) / len(numbers)\n",
        "print(\"Average: \", average)\n"
      ]
    },
    {
      "cell_type": "markdown",
      "metadata": {
        "id": "1F_PZdH9Sh49"
      },
      "source": [
        "# Question 2\n",
        "(25 points). Write a program that will do the following string formatting tasks:\n",
        "\n",
        "(1) Ask the user to enter two sentences.\n",
        "\n",
        "(2) Make each sentence into a list. Each element in the list should correspond to a word in the sentence. For example, if the sentence is \"Alas! Am I alive? This is my first python program\", the program should print out ['Alas, '!', 'Am', 'I', 'alive, '?', 'This', 'is', 'my', 'first', 'python', 'program'].\n",
        "\n",
        "(3) Compare the two sentences. Print out a list of words that occur in both sentences.\n",
        "\n",
        "(4) Remove any punctuation from the sentence and print it back out. It should remove at least the following characters, but it can remove more: period(“.”), comma (“,”), semicolon (“;”), and colon (“:”)\n",
        "\n",
        "(5) Count the number of vowels in the sentences. Print out each vowel and the number of times it appears in the sentences, such as: a:2, e:1, i:0, etc"
      ]
    },
    {
      "cell_type": "code",
      "execution_count": 2,
      "metadata": {
        "colab": {
          "base_uri": "https://localhost:8080/"
        },
        "id": "Y0oOSlsOS0cq",
        "outputId": "773fd276-be5f-4017-f292-e95ed33e6bc8"
      },
      "outputs": [
        {
          "output_type": "stream",
          "name": "stdout",
          "text": [
            "Enter the first sentence: Al Kilani, M., & Kobziev, V. (2016). An overview of research methodology in information system (IS). Open Access Library Journal, 3(11), 1-9.\n",
            "Enter the second sentence: Al Kilani, M., & Kobziev, V. (2016). An overview of research methodology in information system (IS). Open Access Library Journal, 3(11), 1-9.\n",
            "Words in the first sentence:  ['Al', 'Kilani', ',', 'M', '.,', '&', 'Kobziev', ',', 'V', '.', '(', '2016', ').', 'An', 'overview', 'of', 'research', 'methodology', 'in', 'information', 'system', '(', 'IS', ').', 'Open', 'Access', 'Library', 'Journal', ',', '3', '(', '11', '),', '1', '-', '9', '.']\n",
            "Words in the second sentence:  ['Al', 'Kilani', ',', 'M', '.,', '&', 'Kobziev', ',', 'V', '.', '(', '2016', ').', 'An', 'overview', 'of', 'research', 'methodology', 'in', 'information', 'system', '(', 'IS', ').', 'Open', 'Access', 'Library', 'Journal', ',', '3', '(', '11', '),', '1', '-', '9', '.']\n",
            "Common words:  ['Al', 'Kilani', ',', 'M', '.,', '&', 'Kobziev', ',', 'V', '.', '(', '2016', ').', 'An', 'overview', 'of', 'research', 'methodology', 'in', 'information', 'system', '(', 'IS', ').', 'Open', 'Access', 'Library', 'Journal', ',', '3', '(', '11', '),', '1', '-', '9', '.']\n",
            "Words in the first sentence after strip:  Al Kilani M & Kobziev V (2016) An overview of research methodology in information system (IS) Open Access Library Journal 3(11) 1-9\n",
            "Words in the second sentence after strip:  Al Kilani M & Kobziev V (2016) An overview of research methodology in information system (IS) Open Access Library Journal 3(11) 1-9\n",
            "a: 8\n",
            "e: 9\n",
            "i: 9\n",
            "o: 10\n",
            "u: 1\n"
          ]
        }
      ],
      "source": [
        "# Your code here\n",
        "import string\n",
        "import re\n",
        "sentence1 = input(\"Enter the first sentence: \")\n",
        "sentence2 = input(\"Enter the second sentence: \")\n",
        "\n",
        "# Split the sentence into words and punctuations using regular expressions\n",
        "regex = r'\\b\\w+\\b|[^\\w\\s]+'\n",
        "words_and_punctuations1 = re.findall(regex, sentence1)\n",
        "words_and_punctuations2 = re.findall(regex, sentence2)\n",
        "\n",
        "sentence1_list = [word for word in words_and_punctuations1]\n",
        "sentence2_list = [word for word in words_and_punctuations2]\n",
        "# Print the words and punctuations\n",
        "print(\"Words in the first sentence: \", sentence1_list)\n",
        "print(\"Words in the second sentence: \", sentence2_list)\n",
        "\n",
        "#comparing the strings and printing the common words\n",
        "common_words = [word for word in sentence1_list if word in sentence2_list]\n",
        "print(\"Common words: \", common_words)\n",
        "\n",
        "# Remove punctuation\n",
        "# Define a string of punctuation characters to remove\n",
        "punctuation = \",.;:@?!\"\n",
        "\n",
        "# Use the translate() method with the string.punctuation string as argument to remove the punctuation\n",
        "new_sentence1 = sentence1.translate(str.maketrans(\"\", \"\", punctuation))\n",
        "new_sentence2 = sentence2.translate(str.maketrans(\"\", \"\", punctuation))\n",
        "print(\"Words in the first sentence after strip: \", new_sentence1)\n",
        "print(\"Words in the second sentence after strip: \", new_sentence2)\n",
        "\n",
        "\n",
        "# Define a string of vowels\n",
        "vowels = \"aeiou\"\n",
        "\n",
        "# Initialize dictionaries to store the count of each vowel\n",
        "vowel_count = {v:0 for v in vowels}\n",
        "\n",
        "# Iterate through each character in the sentence\n",
        "for char in new_sentence1.lower():\n",
        "    # If the character is a vowel, increment the count in the dictionary\n",
        "    if char in vowels:\n",
        "        vowel_count[char] += 1\n",
        "\n",
        "# Print the count of each vowel\n",
        "for vowel, count in vowel_count.items():\n",
        "    if count > 0:\n",
        "        print(f\"{vowel}: {count}\")\n",
        "\n"
      ]
    },
    {
      "cell_type": "markdown",
      "metadata": {
        "id": "CmFoI4jDS9nx"
      },
      "source": [
        "# Question 3 \n",
        "\n",
        "(15 points). The formula that describes the volume V of a sphere with radius r is the following:\n",
        "\n",
        "$ V=\\frac{4}{3}\\ast\\ \\pi\\ast\\ r^3 $\n",
        "\n",
        "Write a program to calculate the value of V when r is in the range of 1–10. Output the result in the following format:\n",
        "\n",
        "\tr\tV\n",
        "\t1\t…\n",
        "\t2\t…\n",
        "\t3\t…\n"
      ]
    },
    {
      "cell_type": "code",
      "execution_count": null,
      "metadata": {
        "id": "pEyqeioAT95b",
        "colab": {
          "base_uri": "https://localhost:8080/"
        },
        "outputId": "11f55117-ff5e-4486-9cd2-9dc3dd8c124b"
      },
      "outputs": [
        {
          "output_type": "stream",
          "name": "stdout",
          "text": [
            "For r = 1, V = 4.1887902047863905\n",
            "For r = 2, V = 33.510321638291124\n",
            "For r = 3, V = 113.09733552923254\n",
            "For r = 4, V = 268.082573106329\n",
            "For r = 5, V = 523.5987755982989\n",
            "For r = 6, V = 904.7786842338603\n",
            "For r = 7, V = 1436.7550402417319\n",
            "For r = 8, V = 2144.660584850632\n",
            "For r = 9, V = 3053.6280592892786\n",
            "For r = 10, V = 4188.790204786391\n"
          ]
        }
      ],
      "source": [
        "# Your code here\n",
        "import math\n",
        "\n",
        "for r in range(1, 11):\n",
        "    V = (4/3) * math.pi * (r**3)\n",
        "    print(f\"For r = {r}, V = {V}\")\n",
        "\n"
      ]
    },
    {
      "cell_type": "markdown",
      "metadata": {
        "id": "z3tBE7E-Xn5X"
      },
      "source": [
        "# Question 4\n",
        "\n",
        "(40 points). In the field of Data Science, data is often formatted as a comma-delimited (CSV) file, where each line in a file corresponds to a field's value. Refer to Chapter 9 (p. 106) for more information on comma-delimited files. To answer this question, you will need to download the file [Assignment1_denton_housing.csv](https://raw.githubusercontent.com/unt-iialab/info5731-spring2022/main/assignments/Assignment1_denton_housing.csv) included with this assignment. The file [Assignment1_denton_housing.csv](https://raw.githubusercontent.com/unt-iialab/info5731-spring2022/main/assignments/Assignment1_denton_housing.csv) contains statistics about housing in the city of Denton from 2008 to 2014. Write a program to implement the following questions.\n",
        "\n",
        "(1) (10 pts) Calculate the difference in the number of Occupied Housing Units from year to year and print it. The difference must be calculated for the consecutive years such as 2008-2009, 2009-2010 etc. Finally, print the values in the ascending order.\n",
        "\n",
        "(2) (10 pts) For all the years, calculate the percentage of housing units which are vacant an occupied. Print the results in the following format:\n",
        "\n",
        "Year Vacant Housing Units Occupied Housing Units\n",
        "\n",
        "    2008  30%   70%                          \n",
        "\t2009 ----- -----\n",
        "\t2010 ----- -----\n",
        "    2011 ----- -----\n",
        "\t2012 ----- -----\n",
        "    2013 ----- -----\n",
        "\t2014 ----- -----\n",
        "  \n",
        "  \n",
        "\n",
        "(3) (10 pts) Calculate and print the valued and years in which the highest number of housing units were vacant and occupied. Print the results in the following format:  \n",
        "\n",
        "                              Year\tValue\n",
        "\tVacant Housing Units\t  -----   -----\n",
        "\tOccupied Housing Units\t-----   -----\n",
        "\n",
        "(4) (10 pts) Calculate the harmonic mean of the total housing units and print it out. You can find the information about harmonic mean here: https://ncalculators.com/statistics/harmonic-mean-calculator.htm"
      ]
    },
    {
      "cell_type": "code",
      "execution_count": 33,
      "metadata": {
        "id": "lqGYuHBhcsRH",
        "colab": {
          "base_uri": "https://localhost:8080/"
        },
        "outputId": "39d8a39f-b39f-41c6-86a6-9db8c99bc9e4"
      },
      "outputs": [
        {
          "output_type": "stream",
          "name": "stdout",
          "text": [
            "The current working directory is: /content\n",
            "   year             title_field  value\n",
            "0  2014     Total Housing Units  49109\n",
            "1  2014    Vacant Housing Units   2814\n",
            "2  2014  Occupied Housing Units  46295\n",
            "3  2013     Total Housing Units  47888\n",
            "4  2013    Vacant Housing Units   4215\n"
          ]
        }
      ],
      "source": [
        "# Your code here\n",
        "import os\n",
        "\n",
        "print(\"The current working directory is:\", os.getcwd())\n",
        "import shutil\n",
        "\n",
        "source_file = \"/content/sample_data/Assignment1_denton_housing.csv\"\n",
        "destination_file = \"/content/Assignment1_denton_housing.csv\"\n",
        "shutil.copy(source_file, destination_file)\n",
        "\n",
        "import pandas as pd \n",
        "# Read the CSV file into a DataFrame C:\\Users\\bdeve\\Downloads\n",
        "filename = \"Assignment1_denton_housing.csv\"\n",
        "df = pd.read_csv(filename)\n",
        "# Display the first 5 rows of the DataFrame\n",
        "print(df.head())\n",
        "\n",
        "\n",
        "\n",
        "\n",
        "\n",
        "\n"
      ]
    },
    {
      "cell_type": "code",
      "source": [
        "#Finding the Difference between Occupied Housing Units from year to year.\n",
        "#Getting only Occupied Housing Units\n",
        "occupied_df=df.loc[df['title_field'] == 'Occupied Housing Units']\n",
        "occupied_df\n",
        "occ_vals=occupied_df['value'].values\n",
        "diffs=occ_vals[:-1]-occ_vals[1:]\n",
        "years=[\"2014-2013\",\"2013-2012\",\"2012-2011\",\"2011-2010\",\"2010-2009\",\"2009-2008\"]\n",
        "df2=pd.DataFrame()\n",
        "df2['years']=years\n",
        "df2['Difference']=abs(diffs)\n",
        "print(df2)\n",
        "\n",
        "print(\"Sorting the difference from year to year: \")\n",
        "sorted_df = df2.sort_values(by='Difference')\n",
        "print(sorted_df)\n",
        "\n"
      ],
      "metadata": {
        "colab": {
          "base_uri": "https://localhost:8080/"
        },
        "id": "SdjZFs83oxy5",
        "outputId": "53945056-c58a-4043-9b95-cd8bfbc2891b"
      },
      "execution_count": 34,
      "outputs": [
        {
          "output_type": "stream",
          "name": "stdout",
          "text": [
            "       years  Difference\n",
            "0  2014-2013        2622\n",
            "1  2013-2012        1565\n",
            "2  2012-2011        1404\n",
            "3  2011-2010         303\n",
            "4  2010-2009        5091\n",
            "5  2009-2008         795\n",
            "Sorting the difference from year to year: \n",
            "       years  Difference\n",
            "3  2011-2010         303\n",
            "5  2009-2008         795\n",
            "2  2012-2011        1404\n",
            "1  2013-2012        1565\n",
            "0  2014-2013        2622\n",
            "4  2010-2009        5091\n"
          ]
        }
      ]
    },
    {
      "cell_type": "code",
      "source": [
        "\n",
        "vacant_df=df.loc[df['title_field']=='Vacant Housing Units']\n",
        "vac_vals=vacant_df['value'].values\n",
        "print(vacant_df)\n",
        "print(vac_vals)\n",
        "total_df=df.loc[df['title_field']=='Total Housing Units']\n",
        "tot_vals=total_df['value'].values\n",
        "print(total_df)\n",
        "print(tot_vals)\n",
        "perc_of_occupied=[] \n",
        "perc_of_vacant=[]\n",
        "for i in range(7):\n",
        "    perc_of_occupied.append(round(((occ_vals[i]/tot_vals[i])*100),2))\n",
        "\n",
        "for i in range(7):\n",
        "    perc_of_vacant.append(round(((vac_vals[i]/tot_vals[i])*100),2))\n",
        "\n",
        "year=occupied_df['year'].values\n",
        "print(\"Percentage of Vacant and Occupied Housing units for all years: \")\n",
        "print(\"Year\\tVacant Housing Units\\tOccupied Housing Units\")\n",
        "for i in range(7):\n",
        "    print(\"{}\\t\\t{:.2f}\\t\\t{:.2f}\".format(year[i],perc_of_vacant[i],perc_of_occupied[i]))"
      ],
      "metadata": {
        "colab": {
          "base_uri": "https://localhost:8080/"
        },
        "id": "lhPLazUfxC4j",
        "outputId": "f5c311a1-11a1-4d28-82d6-fb9f67a22d3d"
      },
      "execution_count": 30,
      "outputs": [
        {
          "output_type": "stream",
          "name": "stdout",
          "text": [
            "    year           title_field  value\n",
            "1   2014  Vacant Housing Units   2814\n",
            "4   2013  Vacant Housing Units   4215\n",
            "7   2012  Vacant Housing Units   3013\n",
            "10  2011  Vacant Housing Units   4213\n",
            "13  2010  Vacant Housing Units   3635\n",
            "16  2009  Vacant Housing Units   3583\n",
            "19  2008  Vacant Housing Units   4483\n",
            "[2814 4215 3013 4213 3635 3583 4483]\n",
            "    year          title_field  value\n",
            "0   2014  Total Housing Units  49109\n",
            "3   2013  Total Housing Units  47888\n",
            "6   2012  Total Housing Units  45121\n",
            "9   2011  Total Housing Units  44917\n",
            "12  2010  Total Housing Units  44642\n",
            "15  2009  Total Housing Units  39499\n",
            "18  2008  Total Housing Units  41194\n",
            "[49109 47888 45121 44917 44642 39499 41194]\n",
            "Percentage of Vacant and Occupied Housing units for all years: \n",
            "Year\tVacant Housing Units\tOccupied Housing Units\n",
            "2014\t\t5.73\t\t94.27\n",
            "2013\t\t8.80\t\t91.20\n",
            "2012\t\t6.68\t\t93.32\n",
            "2011\t\t9.38\t\t90.62\n",
            "2010\t\t8.14\t\t91.86\n",
            "2009\t\t9.07\t\t90.93\n",
            "2008\t\t10.88\t\t89.12\n"
          ]
        }
      ]
    },
    {
      "cell_type": "code",
      "source": [
        "maxvacant=max(vac_vals)\n",
        "maxoccupied=max(occ_vals)\n",
        "maxyearoccupied=occupied_df[occupied_df['value']==maxoccupied]['year'].item()\n",
        "maxyearvacant=vacant_df[vacant_df['value']==maxvacant]['year'].item()\n",
        "print(\"Highest number of housing units that were vacant and occupied:\")\n",
        "print(\"\\t\\t\\tYear\\t\\tValue\")\n",
        "print(\"Vacant Housing Units:\\t{}\\t\\t{}\".format(maxyearvacant,maxvacant))\n",
        "\n",
        "print(\"Total Housing Units:\", end=\"\\n\")\n",
        "print(total_df)\n",
        "print('Values:',tot_vals)\n",
        "reciprocals = [1/x for x in tot_vals]\n",
        "harmonic_mean = len(tot_vals) / sum(reciprocals)\n",
        "print(\"Harmonic Mean: \",harmonic_mean)"
      ],
      "metadata": {
        "colab": {
          "base_uri": "https://localhost:8080/"
        },
        "id": "iw1gz-eXxymk",
        "outputId": "b09c9fe5-3fe0-487a-b8b3-741464b98f4c"
      },
      "execution_count": 32,
      "outputs": [
        {
          "output_type": "stream",
          "name": "stdout",
          "text": [
            "Highest number of housing units that were vacant and occupied:\n",
            "\t\t\tYear\t\tValue\n",
            "Vacant Housing Units:\t2008\t\t4483\n",
            "Total Housing Units:\n",
            "    year          title_field  value\n",
            "0   2014  Total Housing Units  49109\n",
            "3   2013  Total Housing Units  47888\n",
            "6   2012  Total Housing Units  45121\n",
            "9   2011  Total Housing Units  44917\n",
            "12  2010  Total Housing Units  44642\n",
            "15  2009  Total Housing Units  39499\n",
            "18  2008  Total Housing Units  41194\n",
            "Values: [49109 47888 45121 44917 44642 39499 41194]\n",
            "Harmonic Mean:  44398.28543969185\n"
          ]
        }
      ]
    }
  ],
  "metadata": {
    "colab": {
      "provenance": [],
      "include_colab_link": true
    },
    "kernelspec": {
      "display_name": "Python 3 (ipykernel)",
      "language": "python",
      "name": "python3"
    },
    "language_info": {
      "codemirror_mode": {
        "name": "ipython",
        "version": 3
      },
      "file_extension": ".py",
      "mimetype": "text/x-python",
      "name": "python",
      "nbconvert_exporter": "python",
      "pygments_lexer": "ipython3",
      "version": "3.9.12"
    }
  },
  "nbformat": 4,
  "nbformat_minor": 0
}