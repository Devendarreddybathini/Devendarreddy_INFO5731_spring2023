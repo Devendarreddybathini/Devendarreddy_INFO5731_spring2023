{
  "cells": [
    {
      "cell_type": "markdown",
      "metadata": {
        "id": "view-in-github",
        "colab_type": "text"
      },
      "source": [
        "<a href=\"https://colab.research.google.com/github/Devendarreddybathini/Devendarreddy_INFO5731_spring2023/blob/main/In_class_exercise_01_01242023_1.ipynb\" target=\"_parent\"><img src=\"https://colab.research.google.com/assets/colab-badge.svg\" alt=\"Open In Colab\"/></a>"
      ]
    },
    {
      "cell_type": "markdown",
      "metadata": {
        "id": "DymRJbxDBCnf"
      },
      "source": [
        "# **The first In-class-exercise (01/24/2023, 40 points in total)**"
      ]
    },
    {
      "cell_type": "markdown",
      "metadata": {
        "id": "03jb4GZsBkBS"
      },
      "source": [
        "(1) Write a Python program to calculate the length of a string. (4 points)"
      ]
    },
    {
      "cell_type": "code",
      "execution_count": 1,
      "metadata": {
        "colab": {
          "base_uri": "https://localhost:8080/"
        },
        "id": "YaGLbSHHB8Ej",
        "outputId": "3fbcf0e2-20d9-4a1f-9819-3d6b9ed53131"
      },
      "outputs": [
        {
          "output_type": "stream",
          "name": "stdout",
          "text": [
            "11\n"
          ]
        }
      ],
      "source": [
        "# write your answesr here\n",
        "sample=\"HI DEVENDAR\"\n",
        "print(len(sample))\n"
      ]
    },
    {
      "cell_type": "markdown",
      "metadata": {
        "id": "jJDe71iLB616"
      },
      "source": [
        "(2) Write a Python program to count the number of characters in a string. (4 points)\n",
        "\n",
        "Sample String : 'google.com‘, \n",
        "\n",
        "Expected Result : {'o': 3, 'g': 2, '.': 1, 'e': 1, 'l': 1, 'm': 1, 'c': 1}"
      ]
    },
    {
      "cell_type": "code",
      "execution_count": 3,
      "metadata": {
        "colab": {
          "base_uri": "https://localhost:8080/"
        },
        "id": "MtKskTzbCLaU",
        "outputId": "f9df81f4-8c30-44a4-bbb7-aeaf279c9cf5"
      },
      "outputs": [
        {
          "output_type": "stream",
          "name": "stdout",
          "text": [
            "{'o': 3, 'g': 2, 'l': 1, 'e': 1, '.': 1, 'c': 1, 'm': 1}\n"
          ]
        }
      ],
      "source": [
        "# write your answer here\n",
        "x ='google.com'\n",
        "dic={}\n",
        "for w in x:\n",
        "  if w in dic:\n",
        "    dic[w]+=1\n",
        "  else: dic[w]=1\n",
        "print(dict(sorted(dic.items(), key=lambda x: x[1], reverse=True)))"
      ]
    },
    {
      "cell_type": "markdown",
      "metadata": {
        "id": "55W9AMdXCSpV"
      },
      "source": [
        "(3) Write a Python program to sum all the items in a list. (4 points)"
      ]
    },
    {
      "cell_type": "code",
      "execution_count": 4,
      "metadata": {
        "colab": {
          "base_uri": "https://localhost:8080/"
        },
        "id": "I57NXsauCec2",
        "outputId": "e5f6e39d-e5d6-4aba-aca2-610f63f7dce6"
      },
      "outputs": [
        {
          "output_type": "stream",
          "name": "stdout",
          "text": [
            "15\n"
          ]
        }
      ],
      "source": [
        "# write your answer here\n",
        "series=[1, 2, 3, 4, 5]\n",
        "print(sum(series))\n"
      ]
    },
    {
      "cell_type": "markdown",
      "metadata": {
        "id": "4ulBZ6yhCi9F"
      },
      "source": [
        "(4) Write a Python program to get a string from a given string where all occurrences of its first char have been changed to '\\$', except the first char itself. (4 points)\n",
        "\n",
        "Sample String : 'restart‘, \n",
        "\n",
        "Expected Result : 'resta\\$t'"
      ]
    },
    {
      "cell_type": "code",
      "execution_count": 5,
      "metadata": {
        "colab": {
          "base_uri": "https://localhost:8080/"
        },
        "id": "Fj0XhwbBCw2o",
        "outputId": "ead2522c-597f-4c5c-d29c-2761a3ff4b41"
      },
      "outputs": [
        {
          "output_type": "stream",
          "name": "stdout",
          "text": [
            "resta$t\n"
          ]
        }
      ],
      "source": [
        "# write your answer here\n",
        "b_string=\"restart\"\n",
        "f_char=b_string[0]\n",
        "new_string=b_string.replace(f_char, '$')\n",
        "new_string=f_char+new_string[1:]\n",
        "print(new_string)"
      ]
    },
    {
      "cell_type": "markdown",
      "metadata": {
        "id": "_bIP7s1MCzue"
      },
      "source": [
        "(5) Write a program with python which could accept two parameter a and b to calculate and output the result of S, where \n",
        "\n",
        "$\\ S=3.14*(1+a/b)^3$ (4 points)\n",
        "\n"
      ]
    },
    {
      "cell_type": "code",
      "execution_count": 6,
      "metadata": {
        "colab": {
          "base_uri": "https://localhost:8080/"
        },
        "id": "w79QilHXD3Mg",
        "outputId": "5162d36f-4fee-4720-8418-5559dece485e"
      },
      "outputs": [
        {
          "name": "stdout",
          "output_type": "stream",
          "text": [
            "Enter A value3\n",
            "Enter B value5\n"
          ]
        },
        {
          "output_type": "execute_result",
          "data": {
            "text/plain": [
              "12.861440000000004"
            ]
          },
          "metadata": {},
          "execution_count": 6
        }
      ],
      "source": [
        "# write your answer here\n",
        "a=int(input(\"Enter A value\"))\n",
        "b=int(input(\"Enter B value\"))\n",
        "def fun(a,b):\n",
        "    result=3.14*((1+a/b)**3)\n",
        "    return result\n",
        "fun(a,b)\n"
      ]
    },
    {
      "cell_type": "markdown",
      "metadata": {
        "id": "xCa2bK9aD4Q3"
      },
      "source": [
        "(6) Write a Python program to concatenate following dictionaries to create a new one. (4 points)\n",
        "\n",
        "Sample Dictionary : dic1={1:10, 2:20}, dic2={3:30, 4:40}, dic3={5:50,6:60}, \n",
        "\n",
        "Expected Result : {1: 10, 2: 20, 3: 30, 4: 40, 5: 50, 6: 60}\n"
      ]
    },
    {
      "cell_type": "code",
      "execution_count": 7,
      "metadata": {
        "colab": {
          "base_uri": "https://localhost:8080/"
        },
        "id": "_z4aLqAbEET1",
        "outputId": "174cd358-ffd3-4495-955a-0c7ad6b8662f"
      },
      "outputs": [
        {
          "output_type": "stream",
          "name": "stdout",
          "text": [
            "{1: 10, 2: 20, 3: 30, 4: 40, 5: 50, 6: 60}\n"
          ]
        }
      ],
      "source": [
        "# write your answer here\n",
        "dictionary1={1:10, 2:20}\n",
        "dictionary2={3:30, 4:40}\n",
        "dictionary3={5:50,6:60}\n",
        "newdictdictionary={**dictionary1, **dictionary2, **dictionary3}\n",
        "print(newdictdictionary)\n"
      ]
    },
    {
      "cell_type": "markdown",
      "metadata": {
        "id": "0v48Vqa7FrQh"
      },
      "source": [
        "(7) Write a Python program to check whether an element exists within a tuple. (4 points)"
      ]
    },
    {
      "cell_type": "code",
      "execution_count": 8,
      "metadata": {
        "colab": {
          "base_uri": "https://localhost:8080/"
        },
        "id": "7WEmgq-DF2P1",
        "outputId": "e934bcb1-7179-4fec-bfac-8bdea45e8d23"
      },
      "outputs": [
        {
          "output_type": "stream",
          "name": "stdout",
          "text": [
            "Element is present\n"
          ]
        }
      ],
      "source": [
        "# write your answer here\n",
        "tuple=(1,2,3,4,5,6)\n",
        "element=3\n",
        "if(element in tuple):\n",
        "    print(\"Element is present\")\n",
        "else:\n",
        "    print(\"Element is not present\")\n"
      ]
    },
    {
      "cell_type": "markdown",
      "metadata": {
        "id": "vD5PYLMuGga_"
      },
      "source": [
        "(8) Write a Python program to find maximum and the minimum value in a set. (4 points)"
      ]
    },
    {
      "cell_type": "code",
      "execution_count": 9,
      "metadata": {
        "colab": {
          "base_uri": "https://localhost:8080/"
        },
        "id": "t0D5kdJUGjjw",
        "outputId": "e408a64c-d0cd-409a-ec74-f38a0ea2c656"
      },
      "outputs": [
        {
          "output_type": "stream",
          "name": "stdout",
          "text": [
            "Maximum value in set: 5\n",
            "Minimum value in set: 1\n"
          ]
        }
      ],
      "source": [
        "# write your answer here\n",
        "sample = {1, 2, 3, 4, 5}\n",
        "\n",
        "maximum = max(sample)\n",
        "minimum = min(sample)\n",
        "\n",
        "print(\"Maximum value in set:\", maximum)\n",
        "print(\"Minimum value in set:\", minimum)\n"
      ]
    },
    {
      "cell_type": "markdown",
      "metadata": {
        "id": "uHkd-y5VhVWC"
      },
      "source": [
        "(9) Write a Python program to randomly divide the students in this class into six groups for term projects, each group should have at least 4 students but no more than 6 students (including 6). Here is the students list: (4 points)\n",
        "\n",
        "studnet_list = ['ja0964','sa1198','sb1357','vb0218','sc1229','kg0569','kg0470','sg1297','bg0320','fh0141','jl1252','sk1386',\n",
        "           'ak0956','sk1390','sk1458','sk1313','ak0934','vm0377','nm0618','sm1640','sm1907','gn0108','pr0353','dr0609','ms1500','aos0040','ds0814', 'av0659','nv0234','hy0232']"
      ]
    },
    {
      "cell_type": "code",
      "execution_count": 12,
      "metadata": {
        "colab": {
          "base_uri": "https://localhost:8080/"
        },
        "id": "3iGbmcOBhTwy",
        "outputId": "9710f022-1533-4c98-97d7-a0a1bf30b997"
      },
      "outputs": [
        {
          "output_type": "stream",
          "name": "stdout",
          "text": [
            "Group 1: ['sb1357', 'sk1390', 'sk1313', 'kg0470', 'bg0320']\n",
            "Group 2: ['aos0040', 'av0659', 'ds0814', 'nv0234', 'ak0934']\n",
            "Group 3: ['ja0964', 'hy0232', 'kg0569', 'vb0218', 'gn0108']\n",
            "Group 4: ['nm0618', 'sa1198', 'sc1229', 'ms1500', 'sm1907']\n",
            "Group 5: ['sg1297', 'sk1386', 'fh0141', 'jl1252', 'sk1458']\n",
            "Group 6: ['pr0353', 'ak0956', 'vm0377', 'sm1640', 'dr0609']\n"
          ]
        }
      ],
      "source": [
        "# write your answer here\n",
        "import random\n",
        "\n",
        "student_list=['ja0964','sa1198','sb1357','vb0218','sc1229','kg0569','kg0470','sg1297','bg0320','fh0141','jl1252','sk1386', 'ak0956','sk1390','sk1458','sk1313','ak0934','vm0377','nm0618','sm1640','sm1907','gn0108','pr0353','dr0609','ms1500','aos0040','ds0814', 'av0659','nv0234','hy0232']\n",
        "num_groups=6\n",
        "group_size=(len(student_list)+num_groups-1)//num_groups\n",
        "random.shuffle(student_list)\n",
        "grouped_students=[student_list[i:i+group_size] for i in range(0, len(student_list), group_size)]\n",
        "for i, group in enumerate(grouped_students):\n",
        "    print(\"Group {}: {}\".format(i+1, group))\n"
      ]
    },
    {
      "cell_type": "markdown",
      "metadata": {
        "id": "B-lu2GDHJZ2g"
      },
      "source": [
        "(10) Write a Python program to find the duplicate elements in a given array of integers. Return -1 If there are no such elements. (4 points)"
      ]
    },
    {
      "cell_type": "code",
      "execution_count": 13,
      "metadata": {
        "colab": {
          "base_uri": "https://localhost:8080/"
        },
        "id": "y4mQ_4tkJZ2g",
        "outputId": "306f31f8-ebf1-40e5-cf6b-c94b33f54bc2"
      },
      "outputs": [
        {
          "output_type": "stream",
          "name": "stdout",
          "text": [
            "[2, 4]\n"
          ]
        }
      ],
      "source": [
        "# write your answer here\n",
        "array=[2,2,4,4,5,67,8]\n",
        "duplicate_elements=[]\n",
        "for i in range(len(array)):\n",
        "    for j in range(i+1, len(array)):\n",
        "        if array[i]==array[j]:\n",
        "            duplicate_elements.append(array[i])\n",
        "if len(duplicate_elements)==0:\n",
        "    print(\"-1\")\n",
        "else:\n",
        "    print(list(set(duplicate_elements)))\n"
      ]
    },
    {
      "cell_type": "markdown",
      "metadata": {
        "id": "DxLupYhtJZ2g"
      },
      "source": [
        "(11) Write a Python program to select all the Sundays of a specified year. (4 extra points)"
      ]
    },
    {
      "cell_type": "code",
      "execution_count": null,
      "metadata": {
        "id": "Tc_WVt9VJZ2g"
      },
      "outputs": [],
      "source": [
        "# write your answer here\n"
      ]
    }
  ],
  "metadata": {
    "colab": {
      "provenance": [],
      "include_colab_link": true
    },
    "kernelspec": {
      "display_name": "Python 3 (ipykernel)",
      "language": "python",
      "name": "python3"
    },
    "language_info": {
      "codemirror_mode": {
        "name": "ipython",
        "version": 3
      },
      "file_extension": ".py",
      "mimetype": "text/x-python",
      "name": "python",
      "nbconvert_exporter": "python",
      "pygments_lexer": "ipython3",
      "version": "3.9.12"
    }
  },
  "nbformat": 4,
  "nbformat_minor": 0
}